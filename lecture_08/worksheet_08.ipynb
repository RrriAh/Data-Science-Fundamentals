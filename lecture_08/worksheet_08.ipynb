{
 "cells": [
  {
   "attachments": {},
   "cell_type": "markdown",
   "metadata": {},
   "source": [
    "# Worksheet 08\n",
    "\n",
    "Name: Yu Han\n",
    "UID:  U74808634\n",
    "\n",
    "### Topics\n",
    "\n",
    "- Soft Clustering\n",
    "- Clustering Aggregation\n",
    "\n",
    "### Probability Review\n",
    "\n",
    "Read through [the following](https://medium.com/@gallettilance/overview-of-probability-3272b72c82c8)\n",
    "\n",
    "### Soft Clustering\n",
    "\n",
    "We generate 10 data points that come from a normal distribution with mean 5 and variance 1."
   ]
  },
  {
   "cell_type": "code",
   "execution_count": 74,
   "metadata": {},
   "outputs": [
    {
     "name": "stdout",
     "output_type": "stream",
     "text": [
      "[4.81743029005411, 4.834885507343804, 4.62998119269431, 4.768123051499574, 6.788916376415189, 5.708567911969055, 4.26847312353234, 4.367685864828221, 5.437513334686686, 6.501266672787494]\n"
     ]
    }
   ],
   "source": [
    "import random\n",
    "import numpy as np\n",
    "from sklearn.cluster import KMeans\n",
    "\n",
    "mean = 5\n",
    "stdev = 1\n",
    "\n",
    "s1 = np.random.normal(mean, stdev, 10).tolist()\n",
    "print(s1)"
   ]
  },
  {
   "cell_type": "markdown",
   "metadata": {},
   "source": [
    "a) Generate 10 more data points, this time coming from a normal distribution with mean 8 and variance 1."
   ]
  },
  {
   "cell_type": "code",
   "execution_count": 75,
   "metadata": {},
   "outputs": [
    {
     "name": "stdout",
     "output_type": "stream",
     "text": [
      "[7.767470960924775, 10.252541531790483, 8.641110502615573, 7.460093014314079, 7.7768733678172985, 7.937692760397383, 8.105902487283371, 7.7478706039832455, 7.513387207630212, 8.68638896763101]\n"
     ]
    }
   ],
   "source": [
    "s2 = np.random.normal( 8 , 1 , 10 ).tolist()\n",
    "print(s2)"
   ]
  },
  {
   "cell_type": "markdown",
   "metadata": {},
   "source": [
    "b) Flip a fair coin 10 times. If the coin lands on H, then pick the last data point of `c1` and remove it from `c1`, if T then pick the last data point from `c2` and remove it from `c2`. Add these 10 points to a list called `data`."
   ]
  },
  {
   "cell_type": "code",
   "execution_count": 76,
   "metadata": {},
   "outputs": [
    {
     "name": "stdout",
     "output_type": "stream",
     "text": [
      "[6.501266672787494, 8.68638896763101, 5.437513334686686, 4.367685864828221, 4.26847312353234, 7.513387207630212, 5.708567911969055, 7.7478706039832455, 6.788916376415189, 4.768123051499574]\n",
      "7\n",
      "3\n"
     ]
    }
   ],
   "source": [
    "data = []\n",
    "a = 0\n",
    "b = 0\n",
    "for i in range(10):\n",
    "    # flip coin\n",
    "    coin_output = random.choice([0, 1])\n",
    "    if coin_output == 0:\n",
    "        p1 = s1.pop()\n",
    "        data.append(p1)\n",
    "        a+=1\n",
    "    else:\n",
    "        p2 = s2.pop()\n",
    "        data.append(p2)\n",
    "        b+=1\n",
    "print(data)\n",
    "print(a)\n",
    "print(b)"
   ]
  },
  {
   "cell_type": "markdown",
   "metadata": {},
   "source": [
    "c) This `data` is a Gaussian Mixture Distribution with 2 mixture components. Over the next few questions we will walk through the GMM algorithm to see if we can uncover the parameters we used to generate this data. First, please list all these parameters of the GMM that created `data` and the values we know they have."
   ]
  },
  {
   "cell_type": "markdown",
   "metadata": {},
   "source": [
    "1. the centroid is the mean: 5, 8\n",
    "2. variance = 1"
   ]
  },
  {
   "cell_type": "markdown",
   "metadata": {},
   "source": [
    "d) Let's assume there are two mixture components (note: we could plot the data and make the observation that there are two clusters). The EM algorithm asks us to start with a random `mean_j`, `variance_j`, `P(S_j)` for each component j. One method we could use to find sensible values for these is to apply K means with k=2 here.\n",
    "\n",
    "1. the centroids would be the estimates of the `mean_j`\n",
    "2. the intra-cluster variance could be the estimate of `variance_j`\n",
    "3. the proportion of points in each cluster could be the estimate of `P(S_j)`\n",
    "\n",
    "Go through this process and list the parameter estimates it gives. Are they close or far from the true values?"
   ]
  },
  {
   "cell_type": "code",
   "execution_count": 77,
   "metadata": {},
   "outputs": [
    {
     "name": "stdout",
     "output_type": "stream",
     "text": [
      "[5.437513334686686, 4.367685864828221, 4.26847312353234, 5.708567911969055, 4.768123051499574]\n",
      "[6.501266672787494, 8.68638896763101, 7.513387207630212, 7.7478706039832455, 6.788916376415189]\n",
      "P(S_1) = 0.5,  P(S_2) = 0.5\n",
      "mean_1 = 4.910072657303175,  mean_2 = 7.447565965689431\n",
      "var_1 = 0.3283542849713451,  var_2 = 0.5916998750017572\n"
     ]
    },
    {
     "name": "stderr",
     "output_type": "stream",
     "text": [
      "c:\\Users\\LENOVO\\AppData\\Local\\Programs\\Python\\Python311\\Lib\\site-packages\\sklearn\\cluster\\_kmeans.py:870: FutureWarning: The default value of `n_init` will change from 10 to 'auto' in 1.4. Set the value of `n_init` explicitly to suppress the warning\n",
      "  warnings.warn(\n"
     ]
    }
   ],
   "source": [
    "kmeans = KMeans(2, init='k-means++').fit(X=np.array(data).reshape(-1, 1))\n",
    "\n",
    "s1 = [x[0] for x in filter(lambda x: x[1] == 0, zip(data, kmeans.labels_))]\n",
    "print(s1)\n",
    "s2 = [x[0] for x in filter(lambda x: x[1] != 0, zip(data, kmeans.labels_))]\n",
    "print(s2)\n",
    "\n",
    "prob_s = [ len(s1) / (len(s1) + len(s2)) , len(s2)/(len(s1) + len(s2))]\n",
    "mean = [ sum(s1)/len(s1) , sum(s2)/len(s2) ]\n",
    "var = [ sum(map(lambda x : (x - mean[0])**2, s1)) / len(s1) , sum(map(lambda x : (x - mean[1])**2, s2)) / len(s2) ]\n",
    "\n",
    "print(\"P(S_1) = \" + str(prob_s[0]) + \",  P(S_2) = \" + str(prob_s[1]))\n",
    "print(\"mean_1 = \" + str(mean[0]) + \",  mean_2 = \" + str(mean[1]))\n",
    "print(\"var_1 = \" + str(var[0]) + \",  var_2 = \" + str(var[1]))"
   ]
  },
  {
   "cell_type": "markdown",
   "metadata": {},
   "source": [
    "They are close to the true values."
   ]
  },
  {
   "cell_type": "markdown",
   "metadata": {},
   "source": [
    "e) For each data point, compute `P(S_j | X_i)`. Comment on which cluster you think each point belongs to based on the estimated probabilities. How does that compare to the truth?"
   ]
  },
  {
   "cell_type": "code",
   "execution_count": 78,
   "metadata": {},
   "outputs": [
    {
     "name": "stdout",
     "output_type": "stream",
     "text": [
      "point =  6.501266672787494\n",
      "probability of observing that point if it came from cluster 0 =  9.665243073659768e-06\n",
      "probability of observing that point if it came from cluster 1 =  0.18767454441618817\n",
      "point =  8.68638896763101\n",
      "probability of observing that point if it came from cluster 0 =  2.3076143588868091e-29\n",
      "probability of observing that point if it came from cluster 1 =  0.07532785333261414\n",
      "point =  5.437513334686686\n",
      "probability of observing that point if it came from cluster 0 =  0.3344052666054206\n",
      "probability of observing that point if it came from cluster 1 =  0.0021032663002348026\n",
      "point =  4.367685864828221\n",
      "probability of observing that point if it came from cluster 0 =  0.3105053020960391\n",
      "probability of observing that point if it came from cluster 1 =  8.821366658427761e-07\n",
      "point =  4.26847312353234\n",
      "probability of observing that point if it came from cluster 0 =  0.18008862011975363\n",
      "probability of observing that point if it came from cluster 1 =  3.6340674551282397e-07\n",
      "point =  7.513387207630212\n",
      "probability of observing that point if it came from cluster 0 =  2.722042460094935e-14\n",
      "probability of observing that point if it came from cluster 1 =  0.6700720303114048\n",
      "point =  5.708567911969055\n",
      "probability of observing that point if it came from cluster 0 =  0.063157320793963\n",
      "probability of observing that point if it came from cluster 1 =  0.008977766402500233\n",
      "point =  7.7478706039832455\n",
      "probability of observing that point if it came from cluster 0 =  7.332901671787775e-17\n",
      "probability of observing that point if it came from cluster 1 =  0.5927542064669475\n",
      "point =  6.788916376415189\n",
      "probability of observing that point if it came from cluster 0 =  9.438089773682856e-08\n",
      "probability of observing that point if it came from cluster 1 =  0.36286219877489523\n",
      "point =  4.768123051499574\n",
      "probability of observing that point if it came from cluster 0 =  1.1065856030567216\n",
      "probability of observing that point if it came from cluster 1 =  2.376483906183717e-05\n",
      "6.501266672787494\n",
      "Probability of coming from S_1 = 5.1497369390887424e-05\n",
      "Probability of coming from S_2 = 0.9999485026306091\n",
      "\n",
      "8.68638896763101\n",
      "Probability of coming from S_1 = 3.0634277452424074e-28\n",
      "Probability of coming from S_2 = 1.0\n",
      "\n",
      "5.437513334686686\n",
      "Probability of coming from S_1 = 0.9937497385814448\n",
      "Probability of coming from S_2 = 0.006250261418555116\n",
      "\n",
      "4.367685864828221\n",
      "Probability of coming from S_1 = 0.9999971590367258\n",
      "Probability of coming from S_2 = 2.840963274282711e-06\n",
      "\n",
      "4.26847312353234\n",
      "Probability of coming from S_1 = 0.999997982071205\n",
      "Probability of coming from S_2 = 2.0179287949579136e-06\n",
      "\n",
      "7.513387207630212\n",
      "Probability of coming from S_1 = 4.0623132095661425e-14\n",
      "Probability of coming from S_2 = 0.9999999999999594\n",
      "\n",
      "5.708567911969055\n",
      "Probability of coming from S_1 = 0.8755423088621371\n",
      "Probability of coming from S_2 = 0.12445769113786297\n",
      "\n",
      "7.7478706039832455\n",
      "Probability of coming from S_1 = 1.2370897737689294e-16\n",
      "Probability of coming from S_2 = 0.9999999999999998\n",
      "\n",
      "6.788916376415189\n",
      "Probability of coming from S_1 = 2.6010114447550664e-07\n",
      "Probability of coming from S_2 = 0.9999997398988555\n",
      "\n",
      "4.768123051499574\n",
      "Probability of coming from S_1 = 0.9999785246359274\n",
      "Probability of coming from S_2 = 2.147536407271338e-05\n",
      "\n"
     ]
    }
   ],
   "source": [
    "from scipy.stats import norm\n",
    "\n",
    "prob_s0_x = [] # P(S_0 | X_i)\n",
    "prob_s1_x = [] # P(S_1 | X_i)\n",
    "prob_x = [] # P(X_i)\n",
    "\n",
    "k = 2\n",
    "\n",
    "for p in data:\n",
    "    print(\"point = \", p)\n",
    "    pdf_i = []\n",
    "\n",
    "    for j in range(k):\n",
    "        # P(X_i | S_j)\n",
    "        pdf_i.append(norm.pdf(p, mean[j], var[j]))\n",
    "        print(\"probability of observing that point if it came from cluster \" + str(j) + \" = \", pdf_i[j])\n",
    "        # P(S_j) already computed\n",
    "        prob_s[j]\n",
    "\n",
    "    # P(X_i) = P(S_0)P(X_i | S_0) + P(S_1)P(X_i | S_1)\n",
    "    prob_x = prob_s[0] * pdf_i[0] + prob_s[1] * pdf_i[1]\n",
    "\n",
    "    # P(S_j | X_i) = P(X_i | S_j)P(S_j) / P(X_i)\n",
    "    prob_s0_x.append( prob_s[0] * pdf_i[0]/ prob_x )\n",
    "    prob_s1_x.append( prob_s[1] * pdf_i[1]/ prob_x )\n",
    "\n",
    "probs = zip(data, prob_s0_x, prob_s1_x)\n",
    "for p in probs:\n",
    "    print(p[0])\n",
    "    print(\"Probability of coming from S_1 = \" + str(p[1]))\n",
    "    print(\"Probability of coming from S_2 = \" + str(p[2]))\n",
    "    print()\n"
   ]
  },
  {
   "cell_type": "markdown",
   "metadata": {},
   "source": [
    "f) Having computed `P(S_j | X_i)`, update the estimates of `mean_j`, `var_j`, and `P(S_j)`. How different are these values from the original ones you got from K means? briefly comment."
   ]
  },
  {
   "cell_type": "code",
   "execution_count": 79,
   "metadata": {},
   "outputs": [
    {
     "name": "stdout",
     "output_type": "stream",
     "text": [
      "P(S_1) = 0.4869317470658016,  P(S_2) = 0.5130682529341984\n",
      "mean_1 = 4.889004570554515,  mean_2 = 7.402928855609056\n",
      "var_1 = 0.320095573844894,  var_2 = 0.6529461120863479\n"
     ]
    }
   ],
   "source": [
    "prob_s = [sum(prob_s0_x)/ len(prob_s0_x), sum(prob_s1_x)/ len(prob_s1_x) ]\n",
    "mean = [sum([x[0] * x[1] for x in zip(prob_s0_x, data)]) / sum(prob_s0_x), sum([x[0] * x[1] for x in zip(prob_s1_x, data)]) / sum(prob_s1_x) ]\n",
    "var = [sum([x[0] * (x[1] - mean[0]) ** 2 for x in zip(prob_s0_x, data)]) / sum(prob_s0_x),\n",
    "       sum([x[0] * (x[1] - mean[1]) ** 2 for x in zip(prob_s1_x, data)]) / sum(prob_s1_x)]\n",
    "\n",
    "print(\"P(S_1) = \" + str(prob_s[0]) + \",  P(S_2) = \" + str(prob_s[1]))\n",
    "print(\"mean_1 = \" + str(mean[0]) + \",  mean_2 = \" + str(mean[1]))\n",
    "print(\"var_1 = \" + str(var[0]) + \",  var_2 = \" + str(var[1]))"
   ]
  },
  {
   "cell_type": "markdown",
   "metadata": {},
   "source": [
    "\n",
    "Means are close to what I got from K means, yet probabilities and variances are far from what I got, especially the probabilities."
   ]
  },
  {
   "cell_type": "markdown",
   "metadata": {},
   "source": [
    "g) Update `P(S_j | X_i)`. Comment on any differences or lack thereof you observe."
   ]
  },
  {
   "cell_type": "code",
   "execution_count": 80,
   "metadata": {},
   "outputs": [
    {
     "name": "stdout",
     "output_type": "stream",
     "text": [
      "point =  6.501266672787494\n",
      "probability of observing that point if it came from cluster 0 =  3.861116375857089e-06\n",
      "probability of observing that point if it came from cluster 1 =  0.23547769653345285\n",
      "point =  8.68638896763101\n",
      "probability of observing that point if it came from cluster 0 =  3.426682497490001e-31\n",
      "probability of observing that point if it came from cluster 1 =  0.08851727550743854\n",
      "point =  5.437513334686686\n",
      "probability of observing that point if it came from cluster 0 =  0.28708474728091576\n",
      "probability of observing that point if it came from cluster 1 =  0.006585086165671773\n",
      "point =  4.367685864828221\n",
      "probability of observing that point if it came from cluster 0 =  0.3308705405526826\n",
      "probability of observing that point if it came from cluster 1 =  1.2408638865519034e-05\n",
      "point =  4.26847312353234\n",
      "probability of observing that point if it came from cluster 0 =  0.19035728395064797\n",
      "probability of observing that point if it came from cluster 1 =  6.052802462963312e-06\n",
      "point =  7.513387207630212\n",
      "probability of observing that point if it came from cluster 0 =  3.1558158330827856e-15\n",
      "probability of observing that point if it came from cluster 1 =  0.6023076241760758\n",
      "point =  5.708567911969055\n",
      "probability of observing that point if it came from cluster 0 =  0.04700261512222672\n",
      "probability of observing that point if it came from cluster 1 =  0.021077390178564626\n",
      "point =  7.7478706039832455\n",
      "probability of observing that point if it came from cluster 0 =  5.946295572048921e-18\n",
      "probability of observing that point if it came from cluster 1 =  0.5314105102932363\n",
      "point =  6.788916376415189\n",
      "probability of observing that point if it came from cluster 0 =  2.7901201313378928e-08\n",
      "probability of observing that point if it came from cluster 1 =  0.3926534164180917\n",
      "point =  4.768123051499574\n",
      "probability of observing that point if it came from cluster 0 =  1.1605457891181128\n",
      "probability of observing that point if it came from cluster 1 =  0.0001778926871010281\n",
      "6.501266672787494\n",
      "Probability of coming from S_1 = 1.5561422798439995e-05\n",
      "Probability of coming from S_2 = 0.9999844385772017\n",
      "\n",
      "8.68638896763101\n",
      "Probability of coming from S_1 = 3.673996820219408e-30\n",
      "Probability of coming from S_2 = 1.0\n",
      "\n",
      "5.437513334686686\n",
      "Probability of coming from S_1 = 0.9764013708525633\n",
      "Probability of coming from S_2 = 0.02359862914743678\n",
      "\n",
      "4.367685864828221\n",
      "Probability of coming from S_1 = 0.9999604855505744\n",
      "Probability of coming from S_2 = 3.951444942553591e-05\n",
      "\n",
      "4.26847312353234\n",
      "Probability of coming from S_1 = 0.9999664973235777\n",
      "Probability of coming from S_2 = 3.350267642231773e-05\n",
      "\n",
      "7.513387207630212\n",
      "Probability of coming from S_1 = 4.97263105742023e-15\n",
      "Probability of coming from S_2 = 0.999999999999995\n",
      "\n",
      "5.708567911969055\n",
      "Probability of coming from S_1 = 0.6791171213611227\n",
      "Probability of coming from S_2 = 0.3208828786388773\n",
      "\n",
      "7.7478706039832455\n",
      "Probability of coming from S_1 = 1.0619627932659256e-17\n",
      "Probability of coming from S_2 = 1.0\n",
      "\n",
      "6.788916376415189\n",
      "Probability of coming from S_1 = 6.743827311248962e-08\n",
      "Probability of coming from S_2 = 0.9999999325617269\n",
      "\n",
      "4.768123051499574\n",
      "Probability of coming from S_1 = 0.9998385147986522\n",
      "Probability of coming from S_2 = 0.0001614852013477828\n",
      "\n"
     ]
    }
   ],
   "source": [
    "from scipy.stats import norm\n",
    "\n",
    "prob_s0_x = [] # P(S_0 | X_i)\n",
    "prob_s1_x = [] # P(S_1 | X_i)\n",
    "prob_x = [] # P(X_i)\n",
    "\n",
    "k = 2\n",
    "\n",
    "for p in data:\n",
    "    print(\"point = \", p)\n",
    "    pdf_i = []\n",
    "\n",
    "    for j in range(k):\n",
    "        # P(X_i | S_j)\n",
    "        pdf_i.append(norm.pdf(p, mean[j], var[j]))\n",
    "        print(\"probability of observing that point if it came from cluster \" + str(j) + \" = \", pdf_i[j])\n",
    "        # P(S_j) already computed\n",
    "        prob_s[j]\n",
    "\n",
    "    # P(X_i) = P(S_0)P(X_i | S_0) + P(S_1)P(X_i | S_1)\n",
    "    prob_x = prob_s[0] * pdf_i[0] + prob_s[1] * pdf_i[1]\n",
    "\n",
    "    # P(S_j | X_i) = P(X_i | S_j)P(S_j) / P(X_i)\n",
    "    prob_s0_x.append( prob_s[0] * pdf_i[0]/ prob_x )\n",
    "    prob_s1_x.append( prob_s[1] * pdf_i[1]/ prob_x )\n",
    "\n",
    "probs = zip(data, prob_s0_x, prob_s1_x)\n",
    "for p in probs:\n",
    "    print(p[0])\n",
    "    print(\"Probability of coming from S_1 = \" + str(p[1]))\n",
    "    print(\"Probability of coming from S_2 = \" + str(p[2]))\n",
    "    print()\n"
   ]
  },
  {
   "cell_type": "markdown",
   "metadata": {},
   "source": [
    "Most of the points are from S_1."
   ]
  },
  {
   "cell_type": "markdown",
   "metadata": {},
   "source": [
    "h) Use `P(S_j | X_i)` to create a hard assignment - label each point as belonging to a specific cluster (0 or 1)"
   ]
  },
  {
   "cell_type": "code",
   "execution_count": 81,
   "metadata": {},
   "outputs": [
    {
     "name": "stdout",
     "output_type": "stream",
     "text": [
      "points in cluster 0 : [5.437513334686686, 4.367685864828221, 4.26847312353234, 5.708567911969055, 4.768123051499574]\n",
      "points in cluster 1 : [6.501266672787494, 8.68638896763101, 7.513387207630212, 7.7478706039832455, 6.788916376415189]\n"
     ]
    }
   ],
   "source": [
    "assignments = [[], []]\n",
    "for x in zip(data, prob_s0_x):\n",
    "    prob = x[1]\n",
    "    data = x[0]\n",
    "    if random.random() <= prob:\n",
    "        assignments[0].append(data)\n",
    "    else:\n",
    "        assignments[1].append(data)\n",
    "print(f\"points in cluster 0 : {assignments[0]}\")\n",
    "print(f\"points in cluster 1 : {assignments[1]}\")"
   ]
  }
 ],
 "metadata": {
  "kernelspec": {
   "display_name": "Python 3",
   "language": "python",
   "name": "python3"
  },
  "language_info": {
   "codemirror_mode": {
    "name": "ipython",
    "version": 3
   },
   "file_extension": ".py",
   "mimetype": "text/x-python",
   "name": "python",
   "nbconvert_exporter": "python",
   "pygments_lexer": "ipython3",
   "version": "3.11.1"
  },
  "orig_nbformat": 4,
  "vscode": {
   "interpreter": {
    "hash": "e7370f93d1d0cde622a1f8e1c04877d8463912d04d973331ad4851f04de6915a"
   }
  }
 },
 "nbformat": 4,
 "nbformat_minor": 2
}
